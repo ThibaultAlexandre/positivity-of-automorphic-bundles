{
 "cells": [
  {
   "cell_type": "markdown",
   "id": "c0108b8c",
   "metadata": {},
   "source": [
    "# Positivity of automorphic bundles"
   ]
  },
  {
   "cell_type": "markdown",
   "id": "76a7e876",
   "metadata": {},
   "source": [
    "This note explores the possibility of proving that certain subvarieties of the good reduction of the Siegel variety are of log-general type. More precisely, let $X_g$ be a smooth toroidal compactification of the Siegel variety of genus $g \\geq 1$ without level at $p$ over $\\mathbb{F}_p$, we conjecture that any good subvariety $V \\subset X_g$ such that $\\text{codim}(V) \\leq g-1$ is of log-general type. To this end, we try to show that the exterior products $\\Lambda^k \\Omega^1_{X_g}$ of the cotangent bundle are $(\\varphi,D)$-ample. These results seems only valid when the $p$ is larger than a specific bound which depends on the dimension of the variety."
   ]
  },
  {
   "cell_type": "code",
   "execution_count": 1,
   "id": "bfd7368d",
   "metadata": {},
   "outputs": [],
   "source": [
    "import matplotlib.pyplot as plt\n",
    "\n",
    "class SiegelVariety:\n",
    "    def __init__(self,g,p):\n",
    "        if p not in Primes():\n",
    "            raise ValueError('The number ' + str(p) + ' is not prime')\n",
    "        self.g = g\n",
    "        self.p = p\n",
    "        self.d = int(g*(g+1)/2)\n",
    "        self.A = WeylCharacterRing(['A',self.g-1])\n",
    "        self.C = WeylCharacterRing(['C',self.g])\n",
    "        self.L = RootSystem(\"A\"+str(self.g-1)).ambient_space() #Ag-1\n",
    "        self.LG = RootSystem(\"C\"+str(self.g)).ambient_space() #Cg\n",
    "        self.W = WeylGroup(self.L)\n",
    "        self.WG = WeylGroup(self.LG)\n",
    "\n",
    "        self.phi_L = self.A.positive_roots()\n",
    "        self.phi_G = self.C.positive_roots()\n",
    "        self.Delta_L = self.A.simple_roots()\n",
    "        self.Delta_G = self.C.simple_roots()\n",
    "        \n",
    "        self.s = SymmetricFunctions(QQ).schur()\n",
    "    \n",
    "    #Change root convention\n",
    "    def changeConvention(self,char):\n",
    "        res = []\n",
    "        for i in range(self.g-1,-1,-1):\n",
    "            res.append(-char[i])\n",
    "        return res\n",
    "    \n",
    "    #Test equality of characters\n",
    "    def equality(self,el1,el2):\n",
    "        for i in range(self.g):\n",
    "            if el1[i] != el2[i]:\n",
    "                return False\n",
    "        return True\n",
    "    \n",
    "    #Test if a list contains an element\n",
    "    def contains(self,lst,el):\n",
    "        for x in lst:\n",
    "            if self.equality(x,el):\n",
    "                return True\n",
    "        return False\n",
    "    \n",
    "    #Check L-dominance\n",
    "    def Ldominant(self,char):\n",
    "        for alpha in self.Delta_L:\n",
    "            value = 0\n",
    "            for j in range(self.g):\n",
    "                value += char[j]*alpha[j]\n",
    "            if value < 0:\n",
    "                return False\n",
    "        return True\n",
    "    \n",
    "    def extends_to_I(self, chi, I):\n",
    "        chi = self.LG(chi).to_weight_space()\n",
    "        simple = self.Delta_G\n",
    "        SI = [simple[i] for i in I]\n",
    "        extends = True\n",
    "        for alpha in SI:\n",
    "            alpha = alpha.associated_coroot()\n",
    "            if chi.symmetric_form(alpha.to_weight_space()) != 0:\n",
    "                extends = False\n",
    "                break\n",
    "        return extends\n",
    "    \n",
    "    #If it returns True, it means that the automorphic line bundle of weight char\n",
    "    #is D-ample on the flag bundle of type I0\n",
    "    def ample_flag_bundle(self, I0, char):\n",
    "        char = self.changeConvention(char)\n",
    "        I0 = [self.g-i for i in I0]\n",
    "        simple = self.Delta_L\n",
    "        Iprime = [simple[i] for i in I0]\n",
    "        if len(I0) >0 and not self.extends_to_I(char,I0):\n",
    "            raise ValueError('The character '+str(char)+' is not defined on the flag bundle of type '+ str(Iprime))\n",
    "        if not self.orb_p_close(char):\n",
    "            return False\n",
    "        else:\n",
    "            for alpha in self.phi_G:\n",
    "                if not self.contains(self.phi_L,alpha):\n",
    "                    alpha = alpha.associated_coroot()\n",
    "                    value = 0\n",
    "                    for j in range(self.g):\n",
    "                        value += char[j]*alpha[j]\n",
    "                    if value >= 0:\n",
    "                        return False\n",
    "            for alpha in self.Delta_L:\n",
    "                if alpha not in Iprime:\n",
    "                    value = 0\n",
    "                    for j in range(self.g):\n",
    "                        value += char[j]*alpha[j]\n",
    "                    if value <= 0:\n",
    "                        return False\n",
    "            return True\n",
    "    \n",
    "    def ample_shimura(self, char, details = False):\n",
    "        two_rho = sum(self.phi_L)\n",
    "        mu = 2*self.L(char)+two_rho\n",
    "        if details:\n",
    "            print(mu)\n",
    "        return self.Ldominant(mu) and self.ample_flag_bundle(I0 = [], char = mu)\n",
    "    \n",
    "    def positivity_of_cotangent_bundle(self,codimension):\n",
    "        k = self.d-codimension\n",
    "        plethysm = self.s([1]*k).plethysm(self.s[2])\n",
    "        for char, n in list(plethysm):\n",
    "            if len(char) <= self.g:\n",
    "                char_norm = char + [0]*(self.g-len(char))\n",
    "                res = self.ample_shimura(char_norm)\n",
    "                print(str(char_norm)+' : '+str(res))\n",
    "    \n",
    "    def detailed_plethysm(self,partition):\n",
    "        codimension = self.d-len(partition)\n",
    "        plethysm = self.s(partition).plethysm(self.s[2])\n",
    "        for char, n in list(plethysm):\n",
    "            if len(char) <= self.g:\n",
    "                char_norm = char + [0]*(self.g-len(char))\n",
    "                print(str(char_norm)+' : ')\n",
    "                res = self.ample_shimura(char_norm, details = True)\n",
    "                print(res)\n",
    "                \n",
    "    def plethysm_pipeline(self, partitions):\n",
    "        res = self.s[2]\n",
    "        for p in partitions:\n",
    "            temp_res = self.s(p).plethysm(res)\n",
    "            res = 0\n",
    "            for char, n in list(temp_res):\n",
    "                if len(char) <= self.g:\n",
    "                    res += n*self.s(char)\n",
    "        return res\n",
    "    \n",
    "    def orb_p_close(self,char, details = False):\n",
    "        for w in self.WG:\n",
    "            for alpha in self.phi_G:\n",
    "                alpha = alpha.associated_coroot()\n",
    "                if details:\n",
    "                    print(alpha)\n",
    "                v = w.action(alpha)\n",
    "                num = 0\n",
    "                for j in range(self.g):\n",
    "                    num += char[j]*v[j]\n",
    "                den = 0\n",
    "                for j in range(self.g):\n",
    "                    den += char[j]*alpha[j]\n",
    "                if den != 0:\n",
    "                    if details:\n",
    "                        print('numerator : ' +str(num))\n",
    "                        print('denominator : ' +str(den))\n",
    "                    if max(num/den,-num/den) > self.p-1:\n",
    "                        return False\n",
    "        return True\n",
    "    \n",
    "    def print_nabla_p_orb(self,char):\n",
    "        print(self.orb_p_close(char))\n",
    "        print('\\n')\n",
    "        V = self.A(char)\n",
    "        for x in V.weight_multiplicities():\n",
    "            if self.Ldominant(x):\n",
    "                print(x)\n",
    "                print(self.orb_p_close(x))\n",
    "    \n",
    "    def plot_orb_p(self,kmin, kmax, char, only_dominant = True, figsize = (12,8)):\n",
    "        if self.g == 2:\n",
    "            C_p = []\n",
    "            C_not_p = []\n",
    "            V = self.A(char)\n",
    "            for x in V.weight_multiplicities():\n",
    "                if not only_dominant or self.Ldominant(x):\n",
    "                    if self.orb_p_close(x):\n",
    "                        C_p.append([x[i] for i in range(self.g)])\n",
    "                    else:\n",
    "                        C_not_p.append([x[i] for i in range(self.g)])\n",
    "            C_orb = []\n",
    "            for k2 in range(kmin,kmax):\n",
    "                for k1 in range(k2,kmax):\n",
    "                    if self.orb_p_close([k1,k2]):\n",
    "                        C_orb.append([k1,k2])\n",
    "            plt.clf()\n",
    "            fig = plt.figure(figsize=figsize)\n",
    "            x, y = zip(*C_orb)\n",
    "            plt.scatter(x,y, label='Orbitally ' + str(self.p) + '-close' , color = 'c')\n",
    "            if len(C_p) > 0:\n",
    "                x, y = zip(*C_p)\n",
    "                plt.scatter(x,y, label='Orbitally ' + str(self.p) + '-close weight' , color = 'b')\n",
    "            if len(C_not_p) > 0:\n",
    "                x, y = zip(*C_not_p)\n",
    "                plt.scatter(x,y, label='Not orbitally ' + str(self.p) + '-close weight' , color = 'r') \n",
    "            plt.legend()\n",
    "            plt.show()"
   ]
  },
  {
   "cell_type": "markdown",
   "id": "a01d2168",
   "metadata": {},
   "source": [
    "# Case $g = 2$"
   ]
  },
  {
   "cell_type": "code",
   "execution_count": 2,
   "id": "9ca39590",
   "metadata": {},
   "outputs": [],
   "source": [
    "X = SiegelVariety(g = 2, p = 11)"
   ]
  },
  {
   "cell_type": "code",
   "execution_count": 3,
   "id": "9ae4d06a",
   "metadata": {},
   "outputs": [
    {
     "name": "stdout",
     "output_type": "stream",
     "text": [
      "[3, 3] : True\n"
     ]
    }
   ],
   "source": [
    "X.positivity_of_cotangent_bundle(codimension = 0)"
   ]
  },
  {
   "cell_type": "code",
   "execution_count": 4,
   "id": "be1ec7f3",
   "metadata": {},
   "outputs": [
    {
     "name": "stdout",
     "output_type": "stream",
     "text": [
      "[3, 1] : True\n"
     ]
    }
   ],
   "source": [
    "X.positivity_of_cotangent_bundle(codimension = 1)"
   ]
  },
  {
   "cell_type": "code",
   "execution_count": 5,
   "id": "d7890628",
   "metadata": {},
   "outputs": [
    {
     "name": "stdout",
     "output_type": "stream",
     "text": [
      "[2, 0] : False\n"
     ]
    }
   ],
   "source": [
    "X.positivity_of_cotangent_bundle(codimension = 2)"
   ]
  },
  {
   "cell_type": "code",
   "execution_count": 6,
   "id": "cbbf464c",
   "metadata": {},
   "outputs": [
    {
     "name": "stdout",
     "output_type": "stream",
     "text": [
      "(7, 1)\n"
     ]
    },
    {
     "data": {
      "text/plain": [
       "True"
      ]
     },
     "execution_count": 6,
     "metadata": {},
     "output_type": "execute_result"
    }
   ],
   "source": [
    "X.ample_shimura((3,1), details = True)"
   ]
  },
  {
   "cell_type": "markdown",
   "id": "2936758b",
   "metadata": {},
   "source": [
    "We explore the $p$-orbitally close characters $\\lambda = (k_1,k_2)$ for which all weights of $\\nabla(\\lambda)$ are again orbitally $p$-close since this is not always the case"
   ]
  },
  {
   "cell_type": "code",
   "execution_count": 7,
   "id": "46e00ce1",
   "metadata": {},
   "outputs": [
    {
     "name": "stdout",
     "output_type": "stream",
     "text": [
      "True\n",
      "\n",
      "\n",
      "(11, 3)\n",
      "True\n",
      "(10, 4)\n",
      "True\n",
      "(9, 5)\n",
      "True\n",
      "(8, 6)\n",
      "True\n",
      "(7, 7)\n",
      "True\n"
     ]
    }
   ],
   "source": [
    "X.print_nabla_p_orb([11,3])"
   ]
  },
  {
   "cell_type": "code",
   "execution_count": 8,
   "id": "d4db2189",
   "metadata": {},
   "outputs": [
    {
     "data": {
      "text/plain": [
       "<Figure size 432x288 with 0 Axes>"
      ]
     },
     "metadata": {},
     "output_type": "display_data"
    },
    {
     "data": {
      "image/png": "[encoded data removed]",
      "text/plain": [
       "<Figure size 864x576 with 1 Axes>"
      ]
     },
     "metadata": {
      "needs_background": "light"
     },
     "output_type": "display_data"
    }
   ],
   "source": [
    "X.plot_orb_p(-20,20,[11,3], only_dominant=False)"
   ]
  },
  {
   "cell_type": "code",
   "execution_count": 9,
   "id": "80e38801",
   "metadata": {},
   "outputs": [
    {
     "name": "stdout",
     "output_type": "stream",
     "text": [
      "True\n",
      "\n",
      "\n",
      "(35, -5)\n",
      "True\n",
      "(34, -4)\n",
      "True\n",
      "(33, -3)\n",
      "False\n",
      "(32, -2)\n",
      "False\n",
      "(31, -1)\n",
      "False\n",
      "(30, 0)\n",
      "True\n",
      "(29, 1)\n",
      "False\n",
      "(28, 2)\n",
      "False\n",
      "(27, 3)\n",
      "True\n",
      "(26, 4)\n",
      "True\n",
      "(25, 5)\n",
      "True\n",
      "(24, 6)\n",
      "True\n",
      "(23, 7)\n",
      "True\n",
      "(22, 8)\n",
      "True\n",
      "(21, 9)\n",
      "True\n",
      "(20, 10)\n",
      "True\n",
      "(19, 11)\n",
      "True\n",
      "(18, 12)\n",
      "True\n",
      "(17, 13)\n",
      "True\n",
      "(16, 14)\n",
      "False\n",
      "(15, 15)\n",
      "True\n"
     ]
    }
   ],
   "source": [
    "X.print_nabla_p_orb([35,-5])"
   ]
  },
  {
   "cell_type": "code",
   "execution_count": 10,
   "id": "35c8e6cc",
   "metadata": {},
   "outputs": [
    {
     "data": {
      "text/plain": [
       "<Figure size 432x288 with 0 Axes>"
      ]
     },
     "metadata": {},
     "output_type": "display_data"
    },
    {
     "data": {
      "image/png": "[encoded data removed]",
      "text/plain": [
       "<Figure size 1152x864 with 1 Axes>"
      ]
     },
     "metadata": {
      "needs_background": "light"
     },
     "output_type": "display_data"
    }
   ],
   "source": [
    "X.plot_orb_p(-40,40,[35,-5], only_dominant=False, figsize = (16,12))"
   ]
  },
  {
   "cell_type": "markdown",
   "id": "5dd33ddf",
   "metadata": {},
   "source": [
    "# Case $g = 3$"
   ]
  },
  {
   "cell_type": "code",
   "execution_count": 11,
   "id": "0a7b0e1f",
   "metadata": {},
   "outputs": [
    {
     "name": "stdout",
     "output_type": "stream",
     "text": [
      "0 : \n",
      "[4, 4, 4] : True\n",
      "1 : \n",
      "[4, 4, 2] : True\n",
      "2 : \n",
      "[4, 3, 1] : False\n",
      "3 : \n",
      "[4, 1, 1] : False\n",
      "[3, 3, 0] : False\n",
      "4 : \n",
      "[3, 1, 0] : False\n",
      "5 : \n",
      "[2, 0, 0] : False\n"
     ]
    }
   ],
   "source": [
    "g = 3\n",
    "d = int(g*(g+1)/2)\n",
    "for codim in range(d):\n",
    "    X = SiegelVariety(g = g, p = 17)\n",
    "    print(str(codim)+' : ')\n",
    "    X.positivity_of_cotangent_bundle(codim)"
   ]
  },
  {
   "cell_type": "markdown",
   "id": "3889e97a",
   "metadata": {},
   "source": [
    "In the case where the codimension of $V$ is $2$, we do not get the $(\\varphi,D)$-ampleness. Let's try to use a different Schur functor of the same length."
   ]
  },
  {
   "cell_type": "code",
   "execution_count": 12,
   "id": "6a9cad3b",
   "metadata": {},
   "outputs": [
    {
     "name": "stdout",
     "output_type": "stream",
     "text": [
      "[8, 6, 2] : \n",
      "(18, 12, 2)\n",
      "True\n",
      "[7, 6, 3] : \n",
      "(16, 12, 4)\n",
      "True\n",
      "[8, 4, 4] : \n",
      "(18, 8, 6)\n",
      "True\n",
      "[6, 6, 4] : \n",
      "(14, 12, 6)\n",
      "True\n"
     ]
    }
   ],
   "source": [
    "X.detailed_plethysm([2,2,2,2])"
   ]
  },
  {
   "cell_type": "markdown",
   "id": "4bf44a63",
   "metadata": {},
   "source": [
    "It works, with $S_{(2,2,2,2)}$ we only get $(\\varphi,D)$-ample bundles"
   ]
  },
  {
   "cell_type": "code",
   "execution_count": 13,
   "id": "48ad4a27",
   "metadata": {},
   "outputs": [
    {
     "name": "stdout",
     "output_type": "stream",
     "text": [
      "[7, 4, 1] : \n",
      "(16, 8, 0)\n",
      "False\n",
      "[8, 2, 2] : \n",
      "(18, 4, 2)\n",
      "True\n",
      "[6, 4, 2] : \n",
      "(14, 8, 2)\n",
      "True\n",
      "[4, 4, 4] : \n",
      "(10, 8, 6)\n",
      "True\n",
      "[6, 6, 0] : \n",
      "(14, 12, -2)\n",
      "False\n"
     ]
    }
   ],
   "source": [
    "X.detailed_plethysm([2,2,2])"
   ]
  },
  {
   "cell_type": "markdown",
   "id": "bccff90f",
   "metadata": {},
   "source": [
    "It doesn't seem to work in codimension $3$"
   ]
  },
  {
   "cell_type": "markdown",
   "id": "8e09f5f3",
   "metadata": {},
   "source": [
    "# Case $g = 4$"
   ]
  },
  {
   "cell_type": "code",
   "execution_count": 14,
   "id": "34ff3f49",
   "metadata": {},
   "outputs": [
    {
     "name": "stdout",
     "output_type": "stream",
     "text": [
      "0 : \n",
      "[5, 5, 5, 5] : True\n",
      "1 : \n",
      "[5, 5, 5, 3] : True\n",
      "2 : \n",
      "[5, 5, 4, 2] : True\n",
      "3 : \n",
      "[5, 4, 4, 1] : False\n",
      "[5, 5, 2, 2] : True\n",
      "4 : \n",
      "[5, 4, 2, 1] : False\n",
      "[4, 4, 4, 0] : False\n",
      "5 : \n",
      "[5, 3, 1, 1] : False\n",
      "[4, 4, 2, 0] : False\n",
      "6 : \n",
      "[5, 1, 1, 1] : False\n",
      "[4, 3, 1, 0] : False\n",
      "7 : \n",
      "[4, 1, 1, 0] : False\n",
      "[3, 3, 0, 0] : False\n",
      "8 : \n",
      "[3, 1, 0, 0] : False\n",
      "9 : \n",
      "[2, 0, 0, 0] : False\n"
     ]
    }
   ],
   "source": [
    "g = 4\n",
    "d = int(g*(g+1)/2)\n",
    "X = SiegelVariety(g = g, p = 31)\n",
    "for codim in range(d):\n",
    "    print(str(codim)+' : ')\n",
    "    X.positivity_of_cotangent_bundle(codim)"
   ]
  },
  {
   "cell_type": "markdown",
   "id": "f5501720",
   "metadata": {},
   "source": [
    "It doesn't work in codimension $3$. We need to try other partitions."
   ]
  },
  {
   "cell_type": "code",
   "execution_count": 15,
   "id": "e8274f7e",
   "metadata": {},
   "outputs": [
    {
     "name": "stdout",
     "output_type": "stream",
     "text": [
      "[10, 8, 8, 2] : \n",
      "(23, 17, 15, 1)\n",
      "True\n",
      "[10, 9, 6, 3] : \n",
      "(23, 19, 11, 3)\n",
      "True\n",
      "[9, 9, 7, 3] : \n",
      "(21, 19, 13, 3)\n",
      "True\n",
      "[9, 8, 8, 3] : \n",
      "(21, 17, 15, 3)\n",
      "True\n",
      "[10, 10, 4, 4] : \n",
      "(23, 21, 7, 5)\n",
      "True\n",
      "[10, 8, 6, 4] : \n",
      "(23, 17, 11, 5)\n",
      "True\n",
      "[9, 8, 7, 4] : \n",
      "(21, 17, 13, 5)\n",
      "True\n",
      "[8, 8, 8, 4] : \n",
      "(19, 17, 15, 5)\n",
      "True\n",
      "[9, 9, 5, 5] : \n",
      "(21, 19, 9, 7)\n",
      "True\n",
      "[9, 8, 6, 5] : \n",
      "(21, 17, 11, 7)\n",
      "True\n",
      "[9, 7, 7, 5] : \n",
      "(21, 15, 13, 7)\n",
      "True\n",
      "[10, 6, 6, 6] : \n",
      "(23, 13, 11, 9)\n",
      "True\n",
      "[8, 8, 6, 6] : \n",
      "(19, 17, 11, 9)\n",
      "True\n",
      "[7, 7, 7, 7] : \n",
      "(17, 15, 13, 11)\n",
      "True\n"
     ]
    }
   ],
   "source": [
    "X.detailed_plethysm([2,2,2,2,2,2,2])"
   ]
  },
  {
   "cell_type": "markdown",
   "id": "8b60bcec",
   "metadata": {},
   "source": [
    "It works ! We used $p = 31$"
   ]
  },
  {
   "cell_type": "markdown",
   "id": "ce3879c3",
   "metadata": {},
   "source": [
    "We will try with a different method"
   ]
  },
  {
   "cell_type": "code",
   "execution_count": 16,
   "id": "204b6cb7",
   "metadata": {},
   "outputs": [],
   "source": [
    "X = SiegelVariety(g = 4, p = 31)"
   ]
  },
  {
   "cell_type": "code",
   "execution_count": 17,
   "id": "c176e160",
   "metadata": {},
   "outputs": [
    {
     "data": {
      "text/plain": [
       "s[7, 7, 7, 7] + 2*s[8, 8, 6, 6] + s[8, 8, 8, 4] + s[9, 7, 6, 6] + 2*s[9, 7, 7, 5] + 2*s[9, 8, 6, 5] + 2*s[9, 8, 7, 4] + s[9, 8, 8, 3] + 2*s[9, 9, 5, 5] + s[9, 9, 6, 4] + 2*s[9, 9, 7, 3] + s[10, 6, 6, 6] + s[10, 7, 6, 5] + 3*s[10, 8, 6, 4] + s[10, 8, 8, 2] + s[10, 9, 6, 3] + s[10, 10, 4, 4]"
      ]
     },
     "execution_count": 17,
     "metadata": {},
     "output_type": "execute_result"
    }
   ],
   "source": [
    "X.plethysm_pipeline([7*[1],[2]])"
   ]
  },
  {
   "cell_type": "markdown",
   "id": "cb93b137",
   "metadata": {},
   "source": [
    "# Case $g = 5$"
   ]
  },
  {
   "cell_type": "code",
   "execution_count": 57,
   "id": "143dadb6",
   "metadata": {},
   "outputs": [
    {
     "name": "stdout",
     "output_type": "stream",
     "text": [
      "0 : \n",
      "[6, 6, 6, 6, 6] : True\n",
      "1 : \n",
      "[6, 6, 6, 6, 4] : True\n",
      "2 : \n",
      "[6, 6, 6, 5, 3] : True\n",
      "3 : \n",
      "[6, 6, 5, 5, 2] : False\n",
      "[6, 6, 6, 3, 3] : True\n",
      "4 : \n",
      "[6, 5, 5, 5, 1] : False\n",
      "[6, 6, 5, 3, 2] : False\n",
      "5 : \n",
      "[6, 5, 5, 3, 1] : False\n",
      "[6, 6, 4, 2, 2] : False\n",
      "[5, 5, 5, 5, 0] : False\n",
      "6 : \n",
      "[6, 5, 4, 2, 1] : False\n",
      "[6, 6, 2, 2, 2] : False\n",
      "[5, 5, 5, 3, 0] : False\n",
      "7 : \n",
      "[6, 4, 4, 1, 1] : False\n",
      "[6, 5, 2, 2, 1] : False\n",
      "[5, 5, 4, 2, 0] : False\n",
      "8 : \n",
      "[6, 4, 2, 1, 1] : False\n",
      "[5, 4, 4, 1, 0] : False\n",
      "[5, 5, 2, 2, 0] : False\n",
      "9 : \n",
      "[6, 3, 1, 1, 1] : False\n",
      "[5, 4, 2, 1, 0] : False\n",
      "[4, 4, 4, 0, 0] : False\n",
      "10 : \n",
      "[6, 1, 1, 1, 1] : False\n",
      "[5, 3, 1, 1, 0] : False\n",
      "[4, 4, 2, 0, 0] : False\n",
      "11 : \n",
      "[5, 1, 1, 1, 0] : False\n",
      "[4, 3, 1, 0, 0] : False\n",
      "12 : \n",
      "[4, 1, 1, 0, 0] : False\n",
      "[3, 3, 0, 0, 0] : False\n",
      "13 : \n",
      "[3, 1, 0, 0, 0] : False\n",
      "14 : \n",
      "[2, 0, 0, 0, 0] : False\n"
     ]
    }
   ],
   "source": [
    "g = 5\n",
    "d = int(g*(g+1)/2)\n",
    "X = SiegelVariety(g = g, p = 67)\n",
    "for codim in range(d):\n",
    "    print(str(codim)+' : ')\n",
    "    X.positivity_of_cotangent_bundle(codim)"
   ]
  },
  {
   "cell_type": "code",
   "execution_count": null,
   "id": "8926ea1b",
   "metadata": {},
   "outputs": [],
   "source": [
    "X = SiegelVariety(g = 5, p = 67)\n",
    "X.detailed_plethysm([2]*12)"
   ]
  },
  {
   "cell_type": "markdown",
   "id": "ae6362d5",
   "metadata": {},
   "source": [
    "It is not enough and the program is too slow to test other partitions."
   ]
  }
 ],
 "metadata": {
  "kernelspec": {
   "display_name": "SageMath 9.2",
   "language": "sage",
   "name": "sagemath"
  },
  "language_info": {
   "codemirror_mode": {
    "name": "ipython",
    "version": 3
   },
   "file_extension": ".py",
   "mimetype": "text/x-python",
   "name": "python",
   "nbconvert_exporter": "python",
   "pygments_lexer": "ipython3",
   "version": "3.8.10"
  }
 },
 "nbformat": 4,
 "nbformat_minor": 5
}
