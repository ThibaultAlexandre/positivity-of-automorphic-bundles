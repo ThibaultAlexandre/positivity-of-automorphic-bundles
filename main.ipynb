{
 "cells": [
  {
   "cell_type": "markdown",
   "id": "c0108b8c",
   "metadata": {},
   "source": [
    "# Positivity of automorphic bundles"
   ]
  },
  {
   "cell_type": "markdown",
   "id": "76a7e876",
   "metadata": {},
   "source": [
    "This note explores the possibility of proving that certain subvarieties of the good reduction of the Siegel variety are of log-general type. More precisely, let $X_g$ be a smooth toroidal compactification of the Siegel variety of genus $g \\geq 1$ without level at $p$ over $\\mathbb{F}_p$, we conjecture that any good subvariety $V \\subset X_g$ such that $\\text{codim}(V) \\leq g-1$ is of log-general type. To this end, we try to show that the exterior products $\\Lambda^k \\Omega^1_{X_g}$ of the cotangent bundle are $(\\varphi,D)$-ample."
   ]
  },
  {
   "cell_type": "code",
   "execution_count": 1,
   "id": "bfd7368d",
   "metadata": {},
   "outputs": [],
   "source": [
    "class SiegelVariety:\n",
    "    def __init__(self,g,p):\n",
    "        if p not in Primes():\n",
    "            raise ValueError('The number ' + str(p) + ' is not prime')\n",
    "        self.g = g\n",
    "        self.p = p\n",
    "        self.d = int(g*(g+1)/2)\n",
    "        self.L = RootSystem(\"A\"+str(self.g-1)).ambient_space() #Ag-1\n",
    "        self.LG = RootSystem(\"C\"+str(self.g)).ambient_space() #Cg\n",
    "        self.W = WeylGroup(self.L)\n",
    "        self.WG = WeylGroup(self.LG)\n",
    "\n",
    "        A = WeylCharacterRing(['A',self.g-1])\n",
    "        C = WeylCharacterRing(['C',self.g]) \n",
    "        self.phi_L = A.positive_roots()\n",
    "        self.phi_G = C.positive_roots()\n",
    "        self.Delta_L = A.simple_roots()\n",
    "        self.Delta_G = C.simple_roots()\n",
    "        \n",
    "        self.s = SymmetricFunctions(QQ).schur()\n",
    "    \n",
    "    #Change root convention\n",
    "    def changeConvention(self,char):\n",
    "        res = []\n",
    "        for i in range(self.g-1,-1,-1):\n",
    "            res.append(-char[i])\n",
    "        return res\n",
    "    \n",
    "    #Test equality of characters\n",
    "    def equality(self,el1,el2):\n",
    "        for i in range(self.g):\n",
    "            if el1[i] != el2[i]:\n",
    "                return False\n",
    "        return True\n",
    "    \n",
    "    #Test if a list contains an element\n",
    "    def contains(self,lst,el):\n",
    "        for x in lst:\n",
    "            if self.equality(x,el):\n",
    "                return True\n",
    "        return False\n",
    "    \n",
    "    #Check L-dominance\n",
    "    def Ldominant(self,char):\n",
    "        for alpha in self.Delta_L:\n",
    "            value = 0\n",
    "            for j in range(self.g):\n",
    "                value += char[j]*alpha[j]\n",
    "            if value < 0:\n",
    "                return False\n",
    "        return True\n",
    "    \n",
    "    def extends_to_I(self, chi, I):\n",
    "        chi = self.LG(chi).to_weight_space()\n",
    "        simple = self.Delta_G\n",
    "        SI = [simple[i] for i in I]\n",
    "        extends = True\n",
    "        for alpha in SI:\n",
    "            alpha = alpha.associated_coroot()\n",
    "            if chi.symmetric_form(alpha.to_weight_space()) != 0:\n",
    "                extends = False\n",
    "                break\n",
    "        return extends\n",
    "    \n",
    "    #If it returns True, it means that the automorphic line bundle of weight char\n",
    "    #is D-ample on the flag bundle of type I0\n",
    "    def ample_flag_bundle(self, I0, char):\n",
    "        char = self.changeConvention(char)\n",
    "        I0 = [self.g-i for i in I0]\n",
    "        simple = self.Delta_L\n",
    "        Iprime = [simple[i] for i in I0]\n",
    "        if len(I0) >0 and not self.extends_to_I(char,I0):\n",
    "            raise ValueError('The character '+str(char)+' is not defined on the flag bundle of type '+ str(Iprime))\n",
    "        for w in self.WG:\n",
    "            for alpha in self.phi_G:\n",
    "                alpha = alpha.associated_coroot()\n",
    "                v = w.action(alpha)\n",
    "                num = 0\n",
    "                for j in range(self.g):\n",
    "                    num += char[j]*v[j]\n",
    "                den = 0\n",
    "                for j in range(self.g):\n",
    "                    den += char[j]*alpha[j]\n",
    "                if den != 0:\n",
    "                    if max(num/den,-num/den) > self.p-1:\n",
    "                        return False\n",
    "        for alpha in self.phi_G:\n",
    "            if not self.contains(self.phi_L,alpha):\n",
    "                alpha = alpha.associated_coroot()\n",
    "                value = 0\n",
    "                for j in range(self.g):\n",
    "                    value += char[j]*alpha[j]\n",
    "                if value >= 0:\n",
    "                    return False\n",
    "        for alpha in self.Delta_L:\n",
    "            if alpha not in Iprime:\n",
    "                value = 0\n",
    "                for j in range(self.g):\n",
    "                    value += char[j]*alpha[j]\n",
    "                if value <= 0:\n",
    "                    return False\n",
    "        return True\n",
    "    \n",
    "    def ample_shimura(self, char, details = False):\n",
    "        \n",
    "        two_rho = sum(self.phi_L)\n",
    "        mu = 2*self.L(char)+two_rho\n",
    "        if details:\n",
    "            print(mu)\n",
    "        return self.Ldominant(mu) and self.ample_flag_bundle(I0 = [], char = mu)\n",
    "    \n",
    "    def positivity_of_cotangent_bundle(self,codimension):\n",
    "        k = self.d-codimension\n",
    "        plethysm = self.s([1]*k).plethysm(self.s[2])\n",
    "        for char, n in list(plethysm):\n",
    "            if len(char) <= self.g:\n",
    "                char_norm = char + [0]*(self.g-len(char))\n",
    "                res = self.ample_shimura(char_norm)\n",
    "                print(str(char_norm)+' : '+str(res))\n",
    "    \n",
    "    def detailed_plethysm(self,partition):\n",
    "        codimension = self.d-len(partition)\n",
    "        plethysm = self.s(partition).plethysm(self.s[2])\n",
    "        for char, n in list(plethysm):\n",
    "            if len(char) <= self.g:\n",
    "                char_norm = char + [0]*(self.g-len(char))\n",
    "                print(str(char_norm)+' : ')\n",
    "                res = self.ample_shimura(char_norm, details = True)\n",
    "                print(res)\n",
    "                \n",
    "    def plethysm_pipeline(self, partitions):\n",
    "        res = self.s[2]\n",
    "        for p in partitions:\n",
    "            temp_res = self.s(p).plethysm(res)\n",
    "            res = 0\n",
    "            for char, n in list(temp_res):\n",
    "                if len(char) <= self.g:\n",
    "                    res += n*self.s(char)\n",
    "        return res"
   ]
  },
  {
   "cell_type": "markdown",
   "id": "a01d2168",
   "metadata": {},
   "source": [
    "# Case $g = 2$"
   ]
  },
  {
   "cell_type": "code",
   "execution_count": 11,
   "id": "9ca39590",
   "metadata": {},
   "outputs": [],
   "source": [
    "X = SiegelVariety(g = 2, p = 11)"
   ]
  },
  {
   "cell_type": "code",
   "execution_count": 12,
   "id": "9ae4d06a",
   "metadata": {},
   "outputs": [
    {
     "name": "stdout",
     "output_type": "stream",
     "text": [
      "[3, 3] : True\n"
     ]
    }
   ],
   "source": [
    "X.positivity_of_cotangent_bundle(codimension = 0)"
   ]
  },
  {
   "cell_type": "code",
   "execution_count": 13,
   "id": "be1ec7f3",
   "metadata": {},
   "outputs": [
    {
     "name": "stdout",
     "output_type": "stream",
     "text": [
      "[3, 1] : True\n"
     ]
    }
   ],
   "source": [
    "X.positivity_of_cotangent_bundle(codimension = 1)"
   ]
  },
  {
   "cell_type": "code",
   "execution_count": 14,
   "id": "d7890628",
   "metadata": {},
   "outputs": [
    {
     "name": "stdout",
     "output_type": "stream",
     "text": [
      "[2, 0] : False\n"
     ]
    }
   ],
   "source": [
    "X.positivity_of_cotangent_bundle(codimension = 2)"
   ]
  },
  {
   "cell_type": "code",
   "execution_count": 15,
   "id": "cbbf464c",
   "metadata": {},
   "outputs": [
    {
     "name": "stdout",
     "output_type": "stream",
     "text": [
      "(7, 1)\n"
     ]
    },
    {
     "data": {
      "text/plain": [
       "True"
      ]
     },
     "execution_count": 15,
     "metadata": {},
     "output_type": "execute_result"
    }
   ],
   "source": [
    "X.ample_shimura((3,1), details = True)"
   ]
  },
  {
   "cell_type": "markdown",
   "id": "5dd33ddf",
   "metadata": {},
   "source": [
    "# Case $g = 3$"
   ]
  },
  {
   "cell_type": "code",
   "execution_count": 16,
   "id": "0a7b0e1f",
   "metadata": {},
   "outputs": [
    {
     "name": "stdout",
     "output_type": "stream",
     "text": [
      "0 : \n",
      "[4, 4, 4] : True\n",
      "1 : \n",
      "[4, 4, 2] : True\n",
      "2 : \n",
      "[4, 3, 1] : False\n",
      "3 : \n",
      "[4, 1, 1] : False\n",
      "[3, 3, 0] : False\n",
      "4 : \n",
      "[3, 1, 0] : False\n",
      "5 : \n",
      "[2, 0, 0] : False\n"
     ]
    }
   ],
   "source": [
    "g = 3\n",
    "d = int(g*(g+1)/2)\n",
    "for codim in range(d):\n",
    "    X = SiegelVariety(g = g, p = 17)\n",
    "    print(str(codim)+' : ')\n",
    "    X.positivity_of_cotangent_bundle(codim)"
   ]
  },
  {
   "cell_type": "markdown",
   "id": "3889e97a",
   "metadata": {},
   "source": [
    "In the case where the codimension of $V$ is $2$, we do not get the $(\\varphi,D)$-ampleness. Let's try to use a different Schur functor of the same length."
   ]
  },
  {
   "cell_type": "code",
   "execution_count": 17,
   "id": "6a9cad3b",
   "metadata": {},
   "outputs": [
    {
     "name": "stdout",
     "output_type": "stream",
     "text": [
      "[8, 6, 2] : \n",
      "(18, 12, 2)\n",
      "True\n",
      "[7, 6, 3] : \n",
      "(16, 12, 4)\n",
      "True\n",
      "[8, 4, 4] : \n",
      "(18, 8, 6)\n",
      "True\n",
      "[6, 6, 4] : \n",
      "(14, 12, 6)\n",
      "True\n"
     ]
    }
   ],
   "source": [
    "X.detailed_plethysm([2,2,2,2])"
   ]
  },
  {
   "cell_type": "markdown",
   "id": "4bf44a63",
   "metadata": {},
   "source": [
    "It works, with $S_{(2,2,2,2)}$ we only get $(\\varphi,D)$-ample bundles"
   ]
  },
  {
   "cell_type": "code",
   "execution_count": 18,
   "id": "48ad4a27",
   "metadata": {},
   "outputs": [
    {
     "name": "stdout",
     "output_type": "stream",
     "text": [
      "[7, 4, 1] : \n",
      "(16, 8, 0)\n",
      "False\n",
      "[8, 2, 2] : \n",
      "(18, 4, 2)\n",
      "True\n",
      "[6, 4, 2] : \n",
      "(14, 8, 2)\n",
      "True\n",
      "[4, 4, 4] : \n",
      "(10, 8, 6)\n",
      "True\n",
      "[6, 6, 0] : \n",
      "(14, 12, -2)\n",
      "False\n"
     ]
    }
   ],
   "source": [
    "X.detailed_plethysm([2,2,2])"
   ]
  },
  {
   "cell_type": "markdown",
   "id": "bccff90f",
   "metadata": {},
   "source": [
    "It doesn't seem to work in codimension $3$"
   ]
  },
  {
   "cell_type": "markdown",
   "id": "8e09f5f3",
   "metadata": {},
   "source": [
    "# Case $g = 4$"
   ]
  },
  {
   "cell_type": "code",
   "execution_count": 2,
   "id": "34ff3f49",
   "metadata": {},
   "outputs": [
    {
     "name": "stdout",
     "output_type": "stream",
     "text": [
      "0 : \n",
      "[5, 5, 5, 5] : True\n",
      "1 : \n",
      "[5, 5, 5, 3] : True\n",
      "2 : \n",
      "[5, 5, 4, 2] : True\n",
      "3 : \n",
      "[5, 4, 4, 1] : False\n",
      "[5, 5, 2, 2] : True\n",
      "4 : \n",
      "[5, 4, 2, 1] : False\n",
      "[4, 4, 4, 0] : False\n",
      "5 : \n",
      "[5, 3, 1, 1] : False\n",
      "[4, 4, 2, 0] : False\n",
      "6 : \n",
      "[5, 1, 1, 1] : False\n",
      "[4, 3, 1, 0] : False\n",
      "7 : \n",
      "[4, 1, 1, 0] : False\n",
      "[3, 3, 0, 0] : False\n",
      "8 : \n",
      "[3, 1, 0, 0] : False\n",
      "9 : \n",
      "[2, 0, 0, 0] : False\n"
     ]
    }
   ],
   "source": [
    "g = 4\n",
    "d = int(g*(g+1)/2)\n",
    "X = SiegelVariety(g = g, p = 31)\n",
    "for codim in range(d):\n",
    "    print(str(codim)+' : ')\n",
    "    X.positivity_of_cotangent_bundle(codim)"
   ]
  },
  {
   "cell_type": "markdown",
   "id": "f5501720",
   "metadata": {},
   "source": [
    "It doesn't work in codimension $3$. We need to try other partitions."
   ]
  },
  {
   "cell_type": "code",
   "execution_count": 32,
   "id": "e8274f7e",
   "metadata": {},
   "outputs": [
    {
     "name": "stdout",
     "output_type": "stream",
     "text": [
      "[10, 8, 8, 2] : \n",
      "(23, 17, 15, 1)\n",
      "True\n",
      "[10, 9, 6, 3] : \n",
      "(23, 19, 11, 3)\n",
      "True\n",
      "[9, 9, 7, 3] : \n",
      "(21, 19, 13, 3)\n",
      "True\n",
      "[9, 8, 8, 3] : \n",
      "(21, 17, 15, 3)\n",
      "True\n",
      "[10, 10, 4, 4] : \n",
      "(23, 21, 7, 5)\n",
      "True\n",
      "[10, 8, 6, 4] : \n",
      "(23, 17, 11, 5)\n",
      "True\n",
      "[9, 8, 7, 4] : \n",
      "(21, 17, 13, 5)\n",
      "True\n",
      "[8, 8, 8, 4] : \n",
      "(19, 17, 15, 5)\n",
      "True\n",
      "[9, 9, 5, 5] : \n",
      "(21, 19, 9, 7)\n",
      "True\n",
      "[9, 8, 6, 5] : \n",
      "(21, 17, 11, 7)\n",
      "True\n",
      "[9, 7, 7, 5] : \n",
      "(21, 15, 13, 7)\n",
      "True\n",
      "[10, 6, 6, 6] : \n",
      "(23, 13, 11, 9)\n",
      "True\n",
      "[8, 8, 6, 6] : \n",
      "(19, 17, 11, 9)\n",
      "True\n",
      "[7, 7, 7, 7] : \n",
      "(17, 15, 13, 11)\n",
      "True\n"
     ]
    }
   ],
   "source": [
    "X.detailed_plethysm([2,2,2,2,2,2,2])"
   ]
  },
  {
   "cell_type": "markdown",
   "id": "8b60bcec",
   "metadata": {},
   "source": [
    "It works ! We used $p = 31$"
   ]
  },
  {
   "cell_type": "markdown",
   "id": "ce3879c3",
   "metadata": {},
   "source": [
    "We will try with a different method"
   ]
  },
  {
   "cell_type": "code",
   "execution_count": 2,
   "id": "204b6cb7",
   "metadata": {},
   "outputs": [],
   "source": [
    "X = SiegelVariety(g = 4, p = 31)"
   ]
  },
  {
   "cell_type": "code",
   "execution_count": 4,
   "id": "c176e160",
   "metadata": {},
   "outputs": [
    {
     "data": {
      "text/plain": [
       "s[7, 7, 7, 7] + 2*s[8, 8, 6, 6] + s[8, 8, 8, 4] + s[9, 7, 6, 6] + 2*s[9, 7, 7, 5] + 2*s[9, 8, 6, 5] + 2*s[9, 8, 7, 4] + s[9, 8, 8, 3] + 2*s[9, 9, 5, 5] + s[9, 9, 6, 4] + 2*s[9, 9, 7, 3] + s[10, 6, 6, 6] + s[10, 7, 6, 5] + 3*s[10, 8, 6, 4] + s[10, 8, 8, 2] + s[10, 9, 6, 3] + s[10, 10, 4, 4]"
      ]
     },
     "execution_count": 4,
     "metadata": {},
     "output_type": "execute_result"
    }
   ],
   "source": [
    "X.plethysm_pipeline([7*[1],[2]])"
   ]
  },
  {
   "cell_type": "markdown",
   "id": "cb93b137",
   "metadata": {},
   "source": [
    "# Case $g = 5$"
   ]
  },
  {
   "cell_type": "code",
   "execution_count": 35,
   "id": "143dadb6",
   "metadata": {},
   "outputs": [
    {
     "name": "stdout",
     "output_type": "stream",
     "text": [
      "0 : \n",
      "[6, 6, 6, 6, 6] : True\n",
      "1 : \n",
      "[6, 6, 6, 6, 4] : True\n",
      "2 : \n",
      "[6, 6, 6, 5, 3] : True\n",
      "3 : \n",
      "[6, 6, 5, 5, 2] : False\n",
      "[6, 6, 6, 3, 3] : True\n",
      "4 : \n",
      "[6, 5, 5, 5, 1] : False\n",
      "[6, 6, 5, 3, 2] : False\n",
      "5 : \n",
      "[6, 5, 5, 3, 1] : False\n",
      "[6, 6, 4, 2, 2] : False\n",
      "[5, 5, 5, 5, 0] : False\n",
      "6 : \n",
      "[6, 5, 4, 2, 1] : False\n",
      "[6, 6, 2, 2, 2] : False\n",
      "[5, 5, 5, 3, 0] : False\n",
      "7 : \n",
      "[6, 4, 4, 1, 1] : False\n",
      "[6, 5, 2, 2, 1] : False\n",
      "[5, 5, 4, 2, 0] : False\n",
      "8 : \n",
      "[6, 4, 2, 1, 1] : False\n",
      "[5, 4, 4, 1, 0] : False\n",
      "[5, 5, 2, 2, 0] : False\n",
      "9 : \n",
      "[6, 3, 1, 1, 1] : False\n",
      "[5, 4, 2, 1, 0] : False\n",
      "[4, 4, 4, 0, 0] : False\n",
      "10 : \n",
      "[6, 1, 1, 1, 1] : False\n",
      "[5, 3, 1, 1, 0] : False\n",
      "[4, 4, 2, 0, 0] : False\n",
      "11 : \n",
      "[5, 1, 1, 1, 0] : False\n",
      "[4, 3, 1, 0, 0] : False\n",
      "12 : \n",
      "[4, 1, 1, 0, 0] : False\n",
      "[3, 3, 0, 0, 0] : False\n",
      "13 : \n",
      "[3, 1, 0, 0, 0] : False\n",
      "14 : \n",
      "[2, 0, 0, 0, 0] : False\n"
     ]
    }
   ],
   "source": [
    "g = 5\n",
    "d = int(g*(g+1)/2)\n",
    "X = SiegelVariety(g = g, p = 67)\n",
    "for codim in range(d):\n",
    "    print(str(codim)+' : ')\n",
    "    X.positivity_of_cotangent_bundle(codim)"
   ]
  },
  {
   "cell_type": "code",
   "execution_count": null,
   "id": "8926ea1b",
   "metadata": {},
   "outputs": [],
   "source": [
    "X = SiegelVariety(g = 5, p = 67)\n",
    "X.detailed_plethysm([2]*12)"
   ]
  },
  {
   "cell_type": "markdown",
   "id": "ae6362d5",
   "metadata": {},
   "source": [
    "It is not enough and the program is too slow to test other partitions."
   ]
  }
 ],
 "metadata": {
  "kernelspec": {
   "display_name": "SageMath 9.2",
   "language": "sage",
   "name": "sagemath"
  },
  "language_info": {
   "codemirror_mode": {
    "name": "ipython",
    "version": 3
   },
   "file_extension": ".py",
   "mimetype": "text/x-python",
   "name": "python",
   "nbconvert_exporter": "python",
   "pygments_lexer": "ipython3",
   "version": "3.8.10"
  }
 },
 "nbformat": 4,
 "nbformat_minor": 5
}
